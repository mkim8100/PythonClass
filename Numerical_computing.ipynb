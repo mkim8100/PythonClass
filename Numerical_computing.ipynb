{
 "cells": [
  {
   "cell_type": "markdown",
   "id": "9c3a0941",
   "metadata": {},
   "source": [
    "## Numerical Computing"
   ]
  },
  {
   "cell_type": "markdown",
   "id": "ab0e2293",
   "metadata": {},
   "source": [
    "- gutenberg, easier for capturing text.\n",
    "- humans are able to decode this data, but for computers, it is easier for them to understand this via numerical reference.  So if you organize the data in a numerical fashion, it becomes easier for computers to understand.\n",
    "- This process is called NUMERICAL COMPUTING (aka SCIENTIFIC COMPUTING): turning text into numerical data\n",
    "- It is easy to understand.  It is not something to do with numbers only. (e.g.when you google numerical computing, they simply have to reference the majority ofthe time something to do with numbers.  But we are talking about something including numbers, something more than numbers, that we can actually use this against text or even images.  That is the point that we are trying to make here. \n",
    "- Now if you think Google's underlying search algorithm is actually text based, you are completely wrong.   \n",
    "- When you search in google, tylenol, and you get the results, and if your understanding is that google is actually searching  the keyword tylenol, that is actually a misconception.  So you may be wondering how is actually doing the results or returning the results?  That is the answer that we are looking at today. The basis for that response from google, as an example, is based on numerical computing.  We humans inherently use numbers for everything.  You may not actually know that.  If you understand neural concepts, you will understand we are actually using numerical numbers. \n",
    "\n",
    "- We will try to slowly explain that concept going forward.  \n",
    "- Going back to this Gutenberg. \n",
    "- We can read this word and understand the context, but if you take a look at this \"The Daddy Series\" \n",
    "Daddy takes us Camping\n",
    "Daddy takes us Fishing\n",
    "Daddy takes us to the Circus\n",
    "Daddy takes us Skating\n",
    "Daddy takes us Coasting\n",
    "Daddy takes us to the Farm\n",
    "Daddy takes us to the Garden\n",
    "Daddy takes us Hunting Birds\n",
    "Daddy takes us Hunting Flowers\n",
    "Daddy takes us to the Woods\n",
    "\t\n",
    "The word \"daddy takes\" takes preference.  Why?  Because of the frequency of the word \"daddy takes.\" It is repeated multiple times.\n",
    "\n",
    "- This is what is one example of what we call \"PAGE RANKING.\"  \n",
    "\n",
    "- Let's look up one article on page ranking algorithm.  Take a look at this.  This algorithm, when you get a chance, I definitely want you to read this.  \n",
    "\n",
    "Page ranking is an algorithm used by google search to rank websites in their search engine results.  Page rank was named after Larry Page, one of the founders of Google. Page rank is a way of measuring the importance of website pages.  \n",
    "\n",
    "When you search for \"tylenol,\"  it gives you the most relevant results in the google search engine.  Now, relevancy is absolutely critical!  It is not only the page rank, but also there is also something called as a \"relevancy algorithm.\"  \n",
    "\n",
    "The next time when you google \"relevancy algorithm,\" so there is so many important references here.  Relevance ranking plays an important role when it comes to information retrieval.  \n",
    "- So when you search for \"tylenol,\" what is the relevancy you need to get?  You are getting expecting anything and everything about tylenol. Guess what?  You are going to get results that are acetometaphin as well.  You see that?  Because Tylenol and acetometaphin are both connected.  they are both integrated.  You just cannot separate from treatments.  You see that.  We started with the corpus, and then we talked about ranking algorithm.  We all stressed enough since the beginning of our classes, that:\n",
    "A. computers are optimized to perform better when the data is converted into numerical format. So these algorithms, they don't actually look for texts.  If you are looking for texts, the processing takes a lot of time.  So they are looking for NUMERICAL REFERENCE. \n",
    "To simply the numerical reference, what computers you can actually do is (with your python skills), you can count the number of times that the word \"daddy\" occurs in this document.  \n",
    "So that is once of your numerical reference.  If it actually occurs...CNTRL-F, look for the word \"daddy,\"there are 29 occurrences.  Under 29 occurrences, you can associate this word \"daddy\" with a numerical value.  Whether it is 29 or convert this into a completely different hashcode. It is totally up to you.  But at least now you actually have a numerical reference.  So what you just learned right now, 29 references is also an algorithm.  It is called TERM FREQUENCY: the number of times a word surfaces in a corpus or a text.  Simply put, it is also called a \"word count.\" \n",
    "- If you google, TERM FREQUENCY, it is a measurement of how frequently a term occurs within a document.  So it is nothing but we are now structuring the document and all the words in the document in a numerical fashion.  Basically, we are putting ourselves in a position to understand NUMERICAL COMPUTING. \n",
    "- NUMERICAL COMPUTING: an area of computer science and mathematics that deals with algorithms for numerical approximation of problems.  You are basically approximating the data from any corpus with numerical reference/analysis."
   ]
  },
  {
   "cell_type": "markdown",
   "id": "575a49a0",
   "metadata": {},
   "source": [
    "## Numerical analysis is used to solve science and engineering problems.  \n",
    "How will this impact your day to day lives and the real world?\n",
    "Whenever you start looking at the data, you need to start putting numerical context for that.  So basically how many rows are there? what is the type of data?  Can I aggregate all this type of data with numerical references? This is what we are trying to understand.  \n",
    "\n",
    "In advanced Python or machine learning, so what I basically highlighted here is:\n",
    "\n",
    "DATA SCIENCE - Includes STATISTICS and COMPUTER SCIENCE usually, especially PROGRAMMING and PROBLEM SOLVING skills.  \n",
    "\n",
    "BIG DATA - Is data which is too large and complex, it is hard for data-processing applicaiton software to deal with them.  \n",
    "\n",
    "(Right now, big data is a common occurrence, but still a relevant key word.  Even in some of my references that I have, they are referenced as big data.) \n",
    "\n",
    "- Problems with big data include data collection, data storage, search data, visualization of the data, querying and so on.  \n",
    "\n",
    "- You also had an assignment to read about the Oracle-based Algorithms.  So, basically we are trying to connect all the terms in the past to what we are going to be learning in the near future.  \n",
    "\n",
    "If you look at searching the data, Oracle has actually highlighted how they perform the search.  Now we just talked about how this search actually works.  If you rely on computers to search by words, and not numerical numbers, then you are in a bad position.  All the algorithms use numerical references to perform searches against the data.  When you run a SQL query next time, think about all the complex algorithms that Oracle actually runs.  That is what we are trying to highlight/emphasize here.  The problems include collecting the data, data storage.  \n",
    "\n",
    "What are the DATA STORAGE OPTIONS you have actually learned or heard about?\n",
    "Some of the typical databases are:\n",
    "- noSQL databases: DyanmoDB, Accumulo, HBASE, MongoDB\n",
    "- Content Management System(CMS): Documentum (take a look at what it actually does. Pretty common when you want to store large data sets, open text documentum platform), FileNet from IBM.  \n",
    "##### Documentum (Saas) provides services such as document management, collaboration, search, content classification, input management, Business Process Management (BPM), customer communication management, and Web content management. \n",
    "SQL databases: Oracle, MySQL, MSSQL, SQLITE (python native).  All using complex algorithm to perform data storage.  \n",
    "\n",
    "All complex things to do using numerical Python.  Basically, when it comes to numerical python, I want to set the bar or connections.  In this case, connections..."
   ]
  },
  {
   "cell_type": "markdown",
   "id": "b14e978f",
   "metadata": {},
   "source": [
    "## Packages that are relevant for Numerical Computing\n",
    "#### Pandas \n",
    "#### Matplotlib\n",
    "   ##### SciPy\n",
    " #### NumPy\n",
    "  \n",
    "  so this is the package structure that are literally part of the Python ecosystem that are used for numerical computing.  In here, let me actually start with this...\n",
    "  \n",
    "### Numpy: Numerical Python\n",
    "##### Is a module, which provides the basic data structures, implementing multi-dimensional arrays and matrices.   \n",
    "\n",
    "(you might have actually looked at an array, but not a multi-dimensional one. There is more than one dimension for data.  That is an important concept in NumPy that we are going to talk about.  This is just getting started... and matrices too. \n",
    "\n",
    "##### The numpy package supplies the necessary to create and manipulate these data structures. \n",
    "\n",
    "##### You may have heard about data structures, but we are going to be looking at more concrete examples of data structures.  \n",
    "If you go back to what you learned in our previous sessions, they were all one-dimensional arrays, as they were all a list or tuples, dictionaries.  We are now elevating that structure to multi-dimensional structures.  You are not new to data structures, but we are now advancing that knowledge of what that is and how to handle them.  \n",
    "\n",
    "##### They provide ways for you to create or modify or interact with these data structures.  That is the beauty of this package.  \n",
    "\n",
    "### SciPy: Scientific Python Package\n",
    "##### Based on top of Numpy.  It uses the data structures provided by NumPy.  It also extends the NumPy with further useful functions for minimization, (data minimization, regression, Fourier-transformation and many others.)  \n",
    "\n",
    "Most exciting package that I wanted to highlight.\n",
    "\n",
    "### Matplotlib- Mathematical Plotting Library\n",
    "##### visual plotting library for Python, and the numerically oriented modules like NumPy and SciPy.  \n",
    "\n",
    "That is one of the benefits of Matplotlib.  Going back to scientific python, when you run a simple regression, we talked about regression and there are different types and algorithms.  Fourier transformation is actually a French word.  \n",
    "\n",
    "### Fourier Transformation \n",
    "##### used to track submarines.  Sound travels faster in the water and it is actually unified.  If you have your ears open in the water, if someone rings a bell, you can exactly point out where the sound is coming from.  So submarines use this very critical accoustic measurements to transform the sound waves to the location.  Meaning it is not a direct transformation from sound waves to location.  They are going to look at the frequency, and they are converting the frequency to time series.  That is the purpose of the Fourier Transformation (Frequency to Time Series).  \n",
    "\n",
    "This is applied in what we call SUBMARINE GAME THEORY: \n",
    "when you are actually going through trecherous waters, you don't want your enemy to basically come near you.  In air, what we actually do is we actually send out bad signals, we fly out planes to deter enemy planes from coming into our airspace.  We send fighters to intercept enemy aircraft.  The same concept is applied to underwater.  We don't actually have radar, they send shockwaves or sound waves.  Shockwaves can come in many forms, just by exploring a dummy torpedo.  That will actually send the position or the location on where the location of where the enemy submarine is.  That signal is usually transpired by Fourier Transformation. \n",
    "\n",
    "Link: https://cs130x20162.wordpress.com/2017/05/15/fourier-transform-application-in-submarines/\n",
    "\n",
    "In real world, the reason we talked about this, going forward, we will actually have deal with time series data, as I've always emphasized here, different types of data including TIME SERIES.  Time series data something that is generated on a SECOND BY SECOND BASIS.  Every second data is generated.  Which can you think of examples time series data is actually generated?  Where is it generated?  \n",
    "Jim: aircraft every 4.6 seconds they track the location of an aircraft. \n",
    "Airbus A320.  previously a company called Independence air, and they had Airbus A320, they flew from Dulles to Florida, and back.  Used to have to collect their data from the cockpit (metrics of the airbus 320: how it actually performed, healthwise and what three points it actually took) and send it to the FAA. The point is that it generated large amounts of data, and it was all timeseries. \n",
    "\n",
    "There are different types of data that you will be coming across with and you will need packages to handle them, but you cannot use Scipy individually, you must have Numpy to go with it.  \n",
    "\n",
    "\n",
    "### Pandas - Not the Panda Bear (portmandeau of \"panel data\")\n",
    "##### is using all of the previously mentioned modules.  Pandas is well-suited for working with tabular data similar to excel.  Basically, the name is derived from the term \"panel data\"\n",
    "\n"
   ]
  },
  {
   "cell_type": "markdown",
   "id": "a137b5bc",
   "metadata": {},
   "source": [
    "### Hinton Diagram\n",
    "Hinton Diagrams: visual representation of matrices. The colors indicates positive or negative.  Size of square is proportional to a value's magnitude.  you can generate this Hinton just by using this package Numpy.  There are several uses of this kind of data representation.  Numpy enriches the programming language with powerful data structures and introducing multi-directional arrays and matrices.  \n",
    "\n",
    "https://scipy-cookbook.readthedocs.io/items/Matplotlib_HintonDiagrams.html"
   ]
  },
  {
   "cell_type": "markdown",
   "id": "999f973e",
   "metadata": {},
   "source": [
    "#### Homework: For each and every input line, add detailed comments (1) why you are writing the code, (2) what's the output and (3) how you can use that output."
   ]
  },
  {
   "cell_type": "code",
   "execution_count": 1,
   "id": "f659dc81",
   "metadata": {},
   "outputs": [],
   "source": [
    "import numpy as N\n",
    "import pylab as P\n",
    "\n",
    "def _blob(x,y,area,colour):\n",
    "    \"\"\"\n",
    "    Draws a square-shaped blob with the given area (< 1) at\n",
    "    the given coordinates.\n",
    "    \"\"\"\n",
    "    hs = N.sqrt(area) / 2\n",
    "    xcorners = N.array([x - hs, x + hs, x + hs, x - hs])\n",
    "    ycorners = N.array([y - hs, y - hs, y + hs, y + hs])\n",
    "    P.fill(xcorners, ycorners, colour, edgecolor=colour)\n",
    "\n",
    "def hinton(W, maxWeight=None):\n",
    "    \"\"\"\n",
    "    Draws a Hinton diagram for visualizing a weight matrix. \n",
    "    Temporarily disables matplotlib interactive mode if it is on, \n",
    "    otherwise this takes forever.\n",
    "    \"\"\"\n",
    "    reenable = False\n",
    "    if P.isinteractive():\n",
    "        P.ioff()\n",
    "    P.clf()\n",
    "    height, width = W.shape\n",
    "    if not maxWeight:\n",
    "        maxWeight = 2**N.ceil(N.log(N.max(N.abs(W)))/N.log(2))\n",
    "\n",
    "    P.fill(N.array([0,width,width,0]),N.array([0,0,height,height]),'gray')\n",
    "    P.axis('off')\n",
    "    P.axis('equal')\n",
    "    for x in xrange(width):\n",
    "        for y in xrange(height):\n",
    "            _x = x+1\n",
    "            _y = y+1\n",
    "            w = W[y,x]\n",
    "            if w > 0:\n",
    "                _blob(_x - 0.5, height - _y + 0.5, min(1,w/maxWeight),'white')\n",
    "            elif w < 0:\n",
    "                _blob(_x - 0.5, height - _y + 0.5, min(1,-w/maxWeight),'black')\n",
    "    if reenable:\n",
    "        P.ion()\n",
    "    P.show()"
   ]
  },
  {
   "cell_type": "code",
   "execution_count": 6,
   "id": "1d09dafb",
   "metadata": {},
   "outputs": [
    {
     "data": {
      "text/plain": [
       "array([20.1, 20.8, 21.9, 22.5, 22.7, 22.3, 21.2, 20.9, 20.1])"
      ]
     },
     "execution_count": 6,
     "metadata": {},
     "output_type": "execute_result"
    }
   ],
   "source": [
    "import numpy as np\n",
    "import pandas as pd\n",
    "\n",
    "cValues = [20.1, 20.8, 21.9, 22.5, 22.7, 22.3, 21.2, 20.9, 20.1] \n",
    "# Celsius values of Temp\n",
    "# We will turn our list of values in cValues to an one-dimensional array\n",
    "\n",
    "C= np.array(cValues)\n",
    "# define the variable C, using the \"np.array\" function and the \"cValues\" list.\n",
    "C\n",
    "# print variable C"
   ]
  },
  {
   "cell_type": "code",
   "execution_count": 3,
   "id": "082b47ea",
   "metadata": {},
   "outputs": [
    {
     "data": {
      "text/plain": [
       "numpy.ndarray"
      ]
     },
     "execution_count": 3,
     "metadata": {},
     "output_type": "execute_result"
    }
   ],
   "source": [
    "type (C)\n",
    "# identifies the variable C as an array"
   ]
  },
  {
   "cell_type": "code",
   "execution_count": 4,
   "id": "e25e1708",
   "metadata": {},
   "outputs": [
    {
     "data": {
      "text/plain": [
       "list"
      ]
     },
     "execution_count": 4,
     "metadata": {},
     "output_type": "execute_result"
    }
   ],
   "source": [
    "type (cValues)\n",
    "# identifies cValues as a list"
   ]
  },
  {
   "cell_type": "code",
   "execution_count": 5,
   "id": "549fd78b",
   "metadata": {},
   "outputs": [
    {
     "name": "stdout",
     "output_type": "stream",
     "text": [
      "[68.18 69.44 71.42 72.5  72.86 72.14 70.16 69.62 68.18]\n"
     ]
    }
   ],
   "source": [
    "# We want to turn the values into Fahrenheit - This is very easy to accomplish with numpy array.  \n",
    "# using the \"C\" array, we convert and print the temperatures from Celsius into Farhenhit.  \n",
    "print (C* 9/5 +32)"
   ]
  },
  {
   "cell_type": "markdown",
   "id": "68bf4aa3",
   "metadata": {},
   "source": [
    "## Using the non-traditional way to solve the above problem"
   ]
  },
  {
   "cell_type": "code",
   "execution_count": 8,
   "id": "a5128e9a",
   "metadata": {},
   "outputs": [
    {
     "data": {
      "text/plain": [
       "[68.18, 69.44, 71.42, 72.5, 72.86, 72.14, 70.16, 69.62, 68.18]"
      ]
     },
     "execution_count": 8,
     "metadata": {},
     "output_type": "execute_result"
    }
   ],
   "source": [
    "fValues = [x * 9/ 5 +32 for x in cValues]\n",
    "fValues \n",
    "# this provides an alternative way to convert the cValues Celcius list into an fValues list in Fahrenheit & prints them"
   ]
  },
  {
   "cell_type": "markdown",
   "id": "6c040742",
   "metadata": {},
   "source": [
    "### Graphical representation of the Values "
   ]
  },
  {
   "cell_type": "code",
   "execution_count": 9,
   "id": "542aec25",
   "metadata": {},
   "outputs": [],
   "source": [
    "import matplotlib.pyplot as plt\n",
    "# Use the following line of code in Jupyter notebook to prevent an external window to pop up for plots\n",
    "%matplotlib inline \n",
    "# need to draw this graph in Jupyter"
   ]
  },
  {
   "cell_type": "code",
   "execution_count": 10,
   "id": "3f2c9f7b",
   "metadata": {},
   "outputs": [
    {
     "data": {
      "image/png": "[encoded data removed]",
      "text/plain": [
       "<Figure size 432x288 with 1 Axes>"
      ]
     },
     "metadata": {
      "needs_background": "light"
     },
     "output_type": "display_data"
    }
   ],
   "source": [
    "plt.plot(C)\n",
    "plt.show() # convention to use both plt.plot(C) and plt.show() together in graphing the \"C\" array."
   ]
  },
  {
   "cell_type": "markdown",
   "id": "37e54f5c",
   "metadata": {},
   "source": [
    "##### many different benefits of using numpy.  What I at least want to talk about is the memory consumption of numpy array.  Well, basically compared to what a list.  It is the same thing, but we said it is different.  or even a pandas data frame.  It is actually one thing important for you to know is...\n",
    "\n",
    "### Memory consumption:\n",
    "* Numpy arrays should be smaller memory consumption and better runtime behavior.  Let's take a look at the following example:"
   ]
  },
  {
   "cell_type": "code",
   "execution_count": 9,
   "id": "db268e56",
   "metadata": {},
   "outputs": [],
   "source": [
    "from sys import getsizeof as size\n",
    "#used for memory management in Python. the getsizeof() is specific to the sys module, and requires you to import it.  "
   ]
  },
  {
   "cell_type": "code",
   "execution_count": 10,
   "id": "b47a2c06",
   "metadata": {},
   "outputs": [],
   "source": [
    "lst = [24, 12, 57]\n",
    "#creates a list\n",
    "size_of_list_object = size(lst)\n",
    "#calculates memory consumption of \"lst\""
   ]
  },
  {
   "cell_type": "code",
   "execution_count": 13,
   "id": "2c78d275",
   "metadata": {},
   "outputs": [],
   "source": [
    "import time \n",
    "#module focusing on calculation of time\n",
    "size_of_vec = 100000\n",
    "# creates a variable called \"size_of_vec\" and defines it as 10000\n",
    "\n",
    "def pure_python_version(): \n",
    "    t1 = time.time()\n",
    "    X = range(size_of_vec)\n",
    "    Y = range(size_of_vec)\n",
    "    Z = [X[i] + Y[i] for i in range (len(X))]\n",
    "    return time.time() - t1\n",
    "#defines a function that measures the difference between its start time and end time using pure python. \n",
    "\n",
    "def numpy_version():\n",
    "    t1 = time.time()\n",
    "    X = np.arange(size_of_vec)\n",
    "    Y = np.arange(size_of_vec)\n",
    "    Z = X + Y\n",
    "    return time.time() - t1\n",
    "#defines a function that utilizes the numpy module's functions to calculate time. "
   ]
  },
  {
   "cell_type": "code",
   "execution_count": 14,
   "id": "f1240acf",
   "metadata": {},
   "outputs": [],
   "source": [
    "# Let's call these two functions\n",
    "t1 = pure_python_version()\n",
    "t2 = numpy_version()\n",
    "# creates variables to correlate with the results of respective functions above."
   ]
  },
  {
   "cell_type": "code",
   "execution_count": 15,
   "id": "a1416ffb",
   "metadata": {},
   "outputs": [
    {
     "data": {
      "text/plain": [
       "(0.02759385108947754, 0.001466989517211914)"
      ]
     },
     "execution_count": 15,
     "metadata": {},
     "output_type": "execute_result"
    }
   ],
   "source": [
    "t1, t2\n",
    "# compares the time calculation of pure python funciton and numpy function"
   ]
  },
  {
   "cell_type": "markdown",
   "id": "0ce9893f",
   "metadata": {},
   "source": [
    "# \"Numpy in this example is \" + str(t1/t2) + \"faster\n",
    "\n",
    "## in real world you can numpy arrays from disparate data sets\n",
    "# health data, electronic health records, and billing data.  Our challenge was how much billing was related to health data.  \n",
    "\n",
    "##### We actually saw patient taking in drugs for painkillers or cancer drugs.  we also saw in billing data, how much they were spending on drugs.  We all know we are dependent on medications for a lot of different reasons.  This type of relationship is what you can establish in numpy arrays as an example.  YOu can summarize disparate data source into a different numpy area.  Can you bring strings into the numpy area.  I'm also going to show you, that shouldn't be treated as an absolutely not.  Show you how you can definitely do it"
   ]
  },
  {
   "cell_type": "markdown",
   "id": "155aa635",
   "metadata": {},
   "source": [
    "## Create an Numpy Array"
   ]
  },
  {
   "cell_type": "code",
   "execution_count": 16,
   "id": "0c078a63",
   "metadata": {},
   "outputs": [
    {
     "data": {
      "text/plain": [
       "array([1, 2, 3, 4, 5, 6, 7, 8, 9])"
      ]
     },
     "execution_count": 16,
     "metadata": {},
     "output_type": "execute_result"
    }
   ],
   "source": [
    "import numpy as np\n",
    "# import numpy module and define as np\n",
    "a = np.arange(1, 10)  # this creates an array range.  Available only in numpy. \n",
    "a\n",
    "# prints the array"
   ]
  },
  {
   "cell_type": "code",
   "execution_count": 17,
   "id": "85b986df",
   "metadata": {},
   "outputs": [
    {
     "data": {
      "text/plain": [
       "[1, 2, 3, 4, 5, 6, 7, 8, 9]"
      ]
     },
     "execution_count": 17,
     "metadata": {},
     "output_type": "execute_result"
    }
   ],
   "source": [
    "x = range (1,10)\n",
    "# creates a tuple from the range() function\n",
    "x\n",
    "list(x)\n",
    "#prints the numbers in the tuple"
   ]
  },
  {
   "cell_type": "code",
   "execution_count": 18,
   "id": "6690aaf2",
   "metadata": {},
   "outputs": [
    {
     "data": {
      "text/plain": [
       "array([ 0.,  1.,  2.,  3.,  4.,  5.,  6.,  7.,  8.,  9., 10.])"
      ]
     },
     "execution_count": 18,
     "metadata": {},
     "output_type": "execute_result"
    }
   ],
   "source": [
    "x = np.arange(10.4)\n",
    "x\n",
    "# what happens if you insert a float in the stop parameter? "
   ]
  },
  {
   "cell_type": "code",
   "execution_count": 19,
   "id": "ea669125",
   "metadata": {},
   "outputs": [
    {
     "data": {
      "text/plain": [
       "array([ 0.5,  1.3,  2.1,  2.9,  3.7,  4.5,  5.3,  6.1,  6.9,  7.7,  8.5,\n",
       "        9.3, 10.1])"
      ]
     },
     "execution_count": 19,
     "metadata": {},
     "output_type": "execute_result"
    }
   ],
   "source": [
    "x = np.arange(0.5, 10.4, 0.8) #start = 0.5, end = 10.4, skip = 0.8\n",
    "#intended to show what happens when you put in a float for the start, stop, and the interval of an array values.   \n",
    "x"
   ]
  },
  {
   "cell_type": "markdown",
   "id": "89aa51c5",
   "metadata": {},
   "source": [
    "# Vector: What does it mean in CS?\n",
    "#### A vector, in programming, is a type of array that is one dimensional.  Vectors are a logical element in programming languages taht are used for storing a sequence of data elements of the same basic type.  Members of a vector are called components.  \n",
    "\n",
    "#### The major difference between an array and a vector is that hte container size of a vector can be easily increased and decreased to complement different data storage types.  "
   ]
  },
  {
   "cell_type": "markdown",
   "id": "a834989b",
   "metadata": {},
   "source": [
    "### going forward, when you are referring data that is one dimensional.;  want to call it a vector. "
   ]
  },
  {
   "cell_type": "markdown",
   "id": "fbec37cc",
   "metadata": {},
   "source": [
    "Map: <Key, Value> - <key, <key, value>> - <<key, value>, value>"
   ]
  },
  {
   "cell_type": "markdown",
   "id": "a049b598",
   "metadata": {},
   "source": [
    "Map reduce algorithm: same algorithms as census taking.  Dividing and conquering.  "
   ]
  },
  {
   "cell_type": "markdown",
   "id": "52e6a986",
   "metadata": {},
   "source": [
    "#### Zero-dimensional arrays in Numpy.  "
   ]
  },
  {
   "cell_type": "code",
   "execution_count": 20,
   "id": "5348a322",
   "metadata": {},
   "outputs": [
    {
     "name": "stdout",
     "output_type": "stream",
     "text": [
      "x:  42\n",
      "The type of x:  <class 'numpy.ndarray'>\n",
      "The dimension of x: 0\n"
     ]
    }
   ],
   "source": [
    "#scalars: 0 dimensional arrays.\n",
    "import numpy as np\n",
    "#import numpy module\n",
    "x = np.array(42)\n",
    "#create a scalar array\n",
    "print (\"x: \", x)\n",
    "print (\"The type of x: \", type(x))\n",
    "print (\"The dimension of x:\", np.ndim(x))"
   ]
  },
  {
   "cell_type": "markdown",
   "id": "f67b514c",
   "metadata": {},
   "source": [
    "### One-dimensional arrays"
   ]
  },
  {
   "cell_type": "code",
   "execution_count": 21,
   "id": "2601fee7",
   "metadata": {},
   "outputs": [
    {
     "name": "stdout",
     "output_type": "stream",
     "text": [
      "Dimension of F  1\n",
      "Dimension of V:  1\n"
     ]
    }
   ],
   "source": [
    "# one dimensional arrays are called VECTORS.\n",
    "F = np.array([1, 1, 2, 3, 5, 8, 13, 21])\n",
    "#creates an array called \"F\"\n",
    "V = np.array([3.4, 6.9, 99.8, 12.8])\n",
    "#creates an array called \"V\"\n",
    "print (\"Dimension of F \", np.ndim(F))\n",
    "#identifies the dimension of F\n",
    "print(\"Dimension of V: \", np.ndim(V) )\n",
    "#identifies the dimension of V"
   ]
  },
  {
   "cell_type": "markdown",
   "id": "b9f5559e",
   "metadata": {},
   "source": [
    "### Two - and Multi-dimensional Arrays "
   ]
  },
  {
   "cell_type": "code",
   "execution_count": 22,
   "id": "8e16d01a",
   "metadata": {},
   "outputs": [
    {
     "name": "stdout",
     "output_type": "stream",
     "text": [
      "[[ 3.4  8.7  9.9]\n",
      " [ 1.1 -7.8 -0.7]\n",
      " [ 4.1 12.3  4.8]]\n",
      "2\n"
     ]
    }
   ],
   "source": [
    "#create two dimensional arrays by inserting lists into the arrays.\n",
    "A = np.array([[3.4, 8.7, 9.9], \n",
    "            [1.1, -7.8, -0.7],\n",
    "            [4.1, 12.3, 4.8]])\n",
    "print(A)\n",
    "print(A.ndim)"
   ]
  },
  {
   "cell_type": "code",
   "execution_count": 24,
   "id": "521e1202",
   "metadata": {},
   "outputs": [
    {
     "name": "stdout",
     "output_type": "stream",
     "text": [
      "3\n"
     ]
    }
   ],
   "source": [
    "#create a three dimensional array by inserting a list within the array\n",
    "B = np.array([[[111, 112], [121,122]], \n",
    "              [[211, 212], [221, 222]],\n",
    "             [[311,312], [321, 322]]])\n",
    "print (B.ndim)"
   ]
  },
  {
   "cell_type": "code",
   "execution_count": 25,
   "id": "3d344693",
   "metadata": {},
   "outputs": [
    {
     "data": {
      "text/plain": [
       "array([[[1., 1.],\n",
       "        [1., 1.],\n",
       "        [1., 1.]],\n",
       "\n",
       "       [[1., 1.],\n",
       "        [1., 1.],\n",
       "        [1., 1.]],\n",
       "\n",
       "       [[1., 1.],\n",
       "        [1., 1.],\n",
       "        [1., 1.]],\n",
       "\n",
       "       [[1., 1.],\n",
       "        [1., 1.],\n",
       "        [1., 1.]]])"
      ]
     },
     "execution_count": 25,
     "metadata": {},
     "output_type": "execute_result"
    }
   ],
   "source": [
    "np.ones ((4,3,2))\n",
    "#np.ones() allows you to create your own array of a specific shape filled with ones"
   ]
  },
  {
   "cell_type": "code",
   "execution_count": 29,
   "id": "1c01a1fa",
   "metadata": {},
   "outputs": [
    {
     "data": {
      "text/plain": [
       "'/Users/MKJ/Advanced Python'"
      ]
     },
     "execution_count": 29,
     "metadata": {},
     "output_type": "execute_result"
    }
   ],
   "source": [
    "%pwd\n",
    "#illustration of what a three dimensional array would look like"
   ]
  },
  {
   "cell_type": "markdown",
   "id": "22278a83",
   "metadata": {},
   "source": [
    "![alt_text](image.png \"3-dimensional array\")"
   ]
  },
  {
   "cell_type": "code",
   "execution_count": 30,
   "id": "38dbb682",
   "metadata": {},
   "outputs": [
    {
     "data": {
      "text/plain": [
       "array([[[0., 0.],\n",
       "        [0., 0.],\n",
       "        [0., 0.]],\n",
       "\n",
       "       [[0., 0.],\n",
       "        [0., 0.],\n",
       "        [0., 0.]],\n",
       "\n",
       "       [[0., 0.],\n",
       "        [0., 0.],\n",
       "        [0., 0.]],\n",
       "\n",
       "       [[0., 0.],\n",
       "        [0., 0.],\n",
       "        [0., 0.]]])"
      ]
     },
     "execution_count": 30,
     "metadata": {},
     "output_type": "execute_result"
    }
   ],
   "source": [
    "np.zeros((4,3,2))\n",
    "# np.zeros allows you to create an array of a given shape filled with zeros"
   ]
  },
  {
   "cell_type": "code",
   "execution_count": 31,
   "id": "71196c0c",
   "metadata": {},
   "outputs": [
    {
     "data": {
      "text/plain": [
       "array([[[0.02942684, 0.08475727],\n",
       "        [0.50750828, 0.6654024 ],\n",
       "        [0.75835753, 0.27541518]],\n",
       "\n",
       "       [[0.8429835 , 0.61094203],\n",
       "        [0.57890923, 0.68762855],\n",
       "        [0.36799674, 0.25062238]],\n",
       "\n",
       "       [[0.41608922, 0.66099286],\n",
       "        [0.96169305, 0.3309055 ],\n",
       "        [0.87342448, 0.53362566]],\n",
       "\n",
       "       [[0.14377558, 0.17240646],\n",
       "        [0.53002643, 0.58720423],\n",
       "        [0.0877011 , 0.19472089]]])"
      ]
     },
     "execution_count": 31,
     "metadata": {},
     "output_type": "execute_result"
    }
   ],
   "source": [
    "np.random.random ((4,3,2))\n",
    "# np.random.random allows you to create an array of a given shape all filled with random floats."
   ]
  },
  {
   "cell_type": "code",
   "execution_count": null,
   "id": "0418bc6d",
   "metadata": {},
   "outputs": [],
   "source": []
  }
 ],
 "metadata": {
  "kernelspec": {
   "display_name": "Python 3 (ipykernel)",
   "language": "python",
   "name": "python3"
  },
  "language_info": {
   "codemirror_mode": {
    "name": "ipython",
    "version": 3
   },
   "file_extension": ".py",
   "mimetype": "text/x-python",
   "name": "python",
   "nbconvert_exporter": "python",
   "pygments_lexer": "ipython3",
   "version": "3.9.12"
  }
 },
 "nbformat": 4,
 "nbformat_minor": 5
}
